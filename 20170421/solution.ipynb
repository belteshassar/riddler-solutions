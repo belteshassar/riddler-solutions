{
  "cells": [
    {
      "cell_type": "markdown",
      "source": [
        "# Riddler Classic 2017-04-22\n",
        "\n",
        "Let's start with a simpler version of the problem. If we draw two cards instead of ten, what is the best strategy? Clearly, the best strategy is to choose the option, end or continue, that maximizes the chance of winning.\n",
        "\n",
        "Let $c_i$ be the number on $i+1$th to last card. In the case above, the probablity of winning if ending the game after the first card is $\\frac{c_1-1}{99}$. If you continue, the probability of winning is $\\frac{100-c_1}{99}$.\n",
        "\n",
        "More generally, if you are drawing $k$ cards from a deck of $n$ cards numbered 1 through $n$ and you get a new maximum $c_1$ when drawing the $(k-1)$th card, the probability of winning if you stop is $\\frac{c_1-(k-1)}{n-(k-1)}$ and if you continue $\\frac{n-c_1}{n-(k-1)}$.\n",
        "\nWhat about for $i > 1$? The same basic strategy applies here, we choose the option that maximizes our chances of winning. Notice that we only need to make a decision if the current card is the highest so far, otherwise we will have to continue. If we stop, the probability of winning is easy to calculate. We need to calculate the probability that at none of the remaining cards is greater than $c_i$. This is probably easiest to write as a recursive formula."
      ],
      "metadata": {}
    },
    {
      "cell_type": "code",
      "source": [
        "def prob_win_if_stop(num_cards, cards_to_take, cards_remaining, curr_card_val):\n",
        "    if cards_remaining == 0:\n",
        "        return 1.0\n",
        "    cards_taken = cards_to_take - cards_remaining\n",
        "    return (curr_card_val - cards_taken) / (num_cards - cards_taken) * prob_win_if_stop(\n",
        "                    num_cards, cards_to_take, cards_remaining-1, curr_card_val)"
      ],
      "outputs": [],
      "execution_count": 1,
      "metadata": {
        "collapsed": false,
        "outputHidden": false,
        "inputHidden": false
      }
    },
    {
      "cell_type": "markdown",
      "source": [
        "What about continuing? This is more challenging, because we need to account for all the possible cases. Will we stop or continue after the next card? The answer depends on what that card will be and hence we need to take that into account. If the next card is lower than the current, we have no choice, but if it's higher we need to make a decision. Once again it's probably best to use a recursive formula."
      ],
      "metadata": {}
    },
    {
      "cell_type": "code",
      "source": [
        "def prob_win_if_continue(num_cards, cards_to_take, cards_remaining, curr_max):\n",
        "    if cards_remaining == 1:\n",
        "        return 1 - prob_win_if_stop(num_cards, cards_to_take, cards_remaining, curr_max)\n",
        "    cards_taken = cards_to_take - cards_remaining\n",
        "    cards_below_max = curr_max - cards_taken\n",
        "    \n",
        "    prob_win_if_below_max = prob_win_if_continue(\n",
        "        num_cards, cards_to_take, cards_remaining-1, curr_max)\n",
        "    \n",
        "    probs_win_if_above_max = [max(\n",
        "            prob_win_if_continue(num_cards, cards_to_take, cards_remaining-1, i),\n",
        "            prob_win_if_stop(num_cards, cards_to_take, cards_remaining-1, i)\n",
        "        ) for i in range(curr_max+1, num_cards+1)]\n",
        "    \n",
        "    return (cards_below_max*prob_win_if_below_max + sum(probs_win_if_above_max)\n",
        "        ) / (num_cards - cards_taken)"
      ],
      "outputs": [],
      "execution_count": 2,
      "metadata": {
        "collapsed": false,
        "outputHidden": false,
        "inputHidden": false
      }
    },
    {
      "cell_type": "markdown",
      "source": [
        "We can now formulate our strategy like this:\n",
        "\n",
        "> Stop if and only if the current card is the highest so far _and_ its value is greater than or equal to a threshold value.\n",
        "\nBelow is a simple function to compute the threshold."
      ],
      "metadata": {}
    },
    {
      "cell_type": "code",
      "source": [
        "def stop_threshold(num_cards, cards_to_take, cards_remaining):\n",
        "    for i in range(100, 0, -1):\n",
        "        if (\n",
        "            prob_win_if_continue(num_cards, cards_to_take, cards_remaining, i)\n",
        "            > prob_win_if_stop(num_cards, cards_to_take, cards_remaining, i)):\n",
        "                return i + 1"
      ],
      "outputs": [],
      "execution_count": 3,
      "metadata": {
        "collapsed": false,
        "outputHidden": false,
        "inputHidden": false
      }
    },
    {
      "cell_type": "markdown",
      "source": [
        "For the given problem, the thresholds for card 1 through 9 are"
      ],
      "metadata": {}
    },
    {
      "cell_type": "code",
      "source": [
        "[stop_threshold(100, 10, i) for i in range(9, 0, -1)]"
      ],
      "outputs": [
        {
          "output_type": "execute_result",
          "execution_count": 4,
          "data": {
            "text/plain": [
              "[93, 92, 91, 89, 87, 84, 80, 72, 55]"
            ]
          },
          "metadata": {}
        }
      ],
      "execution_count": 4,
      "metadata": {
        "collapsed": false,
        "outputHidden": false,
        "inputHidden": false
      }
    }
  ],
  "metadata": {
    "kernelspec": {
      "name": "python3",
      "language": "python",
      "display_name": "Python 3"
    },
    "kernel_info": {
      "name": "python3"
    },
    "language_info": {
      "name": "python",
      "version": "3.6.1",
      "mimetype": "text/x-python",
      "codemirror_mode": {
        "name": "ipython",
        "version": 3
      },
      "pygments_lexer": "ipython3",
      "nbconvert_exporter": "python",
      "file_extension": ".py"
    }
  },
  "nbformat": 4,
  "nbformat_minor": 4
}