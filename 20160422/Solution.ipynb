{
 "cells": [
  {
   "cell_type": "markdown",
   "metadata": {},
   "source": [
    "# The misanthropes are coming\n",
    "\n",
    "Full problem [here](http://fivethirtyeight.com/features/can-you-solve-the-puzzle-of-your-misanthropic-neighbors/)\n",
    "\n",
    "A naive approach would be to assume that one and two empty houses between occupied houses is equally likely and thus the expected quotient is\n",
    "\n",
    "$$\n",
    "\\left( \\frac{1}{2} + \\frac{1}{3} \\right) / 2 = \\frac{5}{12}.\n",
    "$$\n",
    "\n",
    "It turns out that this is not the case, because it's slightly more likely that occupied houses be separated by one empty house."
   ]
  },
  {
   "cell_type": "markdown",
   "metadata": {},
   "source": [
    "## Solution\n",
    "\n",
    "Consider a stretch of $n-1$ unoccupied houses surrounded by occupied houses, like this:\n",
    "\n",
    "```\n",
    "|X|1|2|3|4|5|6|7|...|n-1|X|\n",
    "```\n",
    "\n",
    "let $\\bar{s}_n$ be the expected number of houses that will be occupied following our rule including the occupied house at the end.\n",
    "\n",
    "When a new misantrope moves in, they pick a house $k$ between $2$ and $n-2$ at random. This act will essentially split the stretch into two smaller stretches of unoccupied houses of lengths $k$ and $N-k$, respectively.\n",
    "\n",
    "```\n",
    "|X|1|...|k-1|X|k+1|...|n-1|X|\n",
    "```\n",
    "\n",
    "From this observation we can make a recursive formula for $\\bar{s}_n$:\n",
    "\n",
    "$$\n",
    "\\bar{s}_n = \\frac{1}{n-3} \\sum_{k=2}^{n-1} \\left( \\bar{s}_{k-1} + \\bar{s}_{n-k} \\right),\n",
    "$$\n",
    "\n",
    "where $\\bar{s}_2 = \\bar{s}_3 = 1$. This can be simplified to\n",
    "\n",
    "$$\n",
    "\\bar{s}_n = \\frac{2}{n-3} \\sum_{k=1}^{n-2} \\bar{s}_{k}.\n",
    "$$\n",
    "\n",
    "Elliminating the sums we get\n",
    "\n",
    "$$\n",
    "\\bar{s}_n = \\frac{n-4}{n-3}\\bar{s}_{n-1} + \\frac{2}{n-3}\\bar{s}_{n-2}.\n",
    "$$\n",
    "\n",
    "Let's see what $\\frac{\\bar{s}_n}{n}$ converges to."
   ]
  },
  {
   "cell_type": "code",
   "execution_count": 1,
   "metadata": {
    "collapsed": false,
    "scrolled": true
   },
   "outputs": [
    {
     "name": "stdout",
     "output_type": "stream",
     "text": [
      "converges to:\n",
      "0.432332358382\n"
     ]
    },
    {
     "data": {
      "image/png": "[encoded data removed]",
      "text/plain": [
       "<matplotlib.figure.Figure at 0x6bac5c0>"
      ]
     },
     "metadata": {},
     "output_type": "display_data"
    }
   ],
   "source": [
    "import matplotlib.pyplot as plt\n",
    "import numpy as np\n",
    "%matplotlib inline\n",
    "\n",
    "s = np.zeros(10001)\n",
    "s[2] = 1\n",
    "s[3] = 1\n",
    "for n in np.arange(4, 10001):\n",
    "    s[n] = (n-4.0)/(n-3.0)*s[n-1] + 2.0/(n-3.0)*s[n-2]\n",
    "\n",
    "plt.semilogx(np.arange(2, 10001), s[2:]/np.arange(2, 10001))\n",
    "print('converges to:')\n",
    "print(s[10000]/10000)"
   ]
  },
  {
   "cell_type": "markdown",
   "metadata": {},
   "source": [
    "It seems that it rapidly converges towards $0.432332358382...$. What number could this be?\n",
    "\n",
    "My conjecture is that the exact solution is\n",
    "\n",
    "$$\n",
    "\\frac{1}{2} - \\frac{1}{2e},\n",
    "$$\n",
    "\n",
    "but I have not been able to prove it yet."
   ]
  }
 ],
 "metadata": {
  "kernelspec": {
   "display_name": "Python 2",
   "language": "python",
   "name": "python2"
  },
  "language_info": {
   "codemirror_mode": {
    "name": "ipython",
    "version": 2
   },
   "file_extension": ".py",
   "mimetype": "text/x-python",
   "name": "python",
   "nbconvert_exporter": "python",
   "pygments_lexer": "ipython2",
   "version": "2.7.11"
  }
 },
 "nbformat": 4,
 "nbformat_minor": 0
}
