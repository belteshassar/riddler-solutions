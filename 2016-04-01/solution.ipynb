{
 "cells": [
  {
   "cell_type": "markdown",
   "metadata": {},
   "source": [
    "# Solution to the \"Impossible Puzzle\"\n",
    "\n",
    "As it appeared in [The Riddler](http://fivethirtyeight.com/features/can-you-solve-the-impossible-puzzle/)"
   ]
  },
  {
   "cell_type": "markdown",
   "metadata": {},
   "source": [
    "The key to solving this kind of problem is noticing that the \"No, I don't know\" contains information about the number Peter and Susan has on their slip of paper. Some products and sums are only possible to arrive at given a specific pair of numbers.\n",
    "\n",
    "In this case, the fact that Pete doesn't immediately know the numbers tells us that the only possible pairs are\n",
    " (1, 4),\n",
    " (1, 6),\n",
    " (1, 8),\n",
    " (1, 9),\n",
    " (2, 2),\n",
    " (2, 3),\n",
    " (2, 4),\n",
    " (2, 6),\n",
    " (2, 8),\n",
    " (2, 9),\n",
    " (3, 3),\n",
    " (3, 4),\n",
    " (3, 6), \n",
    " (3, 8),\n",
    " (4, 4),\n",
    " (4, 6),\n",
    " (4, 9), \n",
    " and (6, 6), because any other numbers would have produced a unique product and Pete would have been able to figure out what the two numbers were. The question is somewhat ambiguous as to whether the two numbers are allowed to be the same. It turns out that we have to allow that for the problem to work, but more about that later."
   ]
  },
  {
   "cell_type": "markdown",
   "metadata": {},
   "source": [
    "When Susan is asked if she knows the answer, she only has to consider the pairs of numbers mentioned above. In that set, (2, 2), (6, 6), and (4, 9) have unique sums and can be ruled out since Susan answered \"no\". We can apply this method repeatedly and we should hopefully arrive at a unique solution in the end."
   ]
  },
  {
   "cell_type": "markdown",
   "metadata": {},
   "source": [
    "The method described above is easy, but tideous, to perform with pen and paper. A programmatic implementation of it would allow us to study variations of the problem:\n",
    "\n",
    "- What if we allow more numbers or fewer numbers?\n",
    "- What if the sequence of is altered? For example, what if Susan got it on her second go?\n",
    "\n",
    "I decided to subclass the Python `list` for this purpose. I could have written procedural code, but the subclass gave me a nice syntax for chaining method calls. The list keeps track of all pairs of numbers that an observer would regard as possible. Pete and Susan on the other hand have more information.\n",
    "\n",
    "I created two convenient static methods for inializing the class based on a range of numbers.\n",
    "\n",
    "The methods `does_pete_know` and `does_susan_know` return a new instance of the class with (potentially) fewer entries. If the `answer` parameter is not set to `'yes'`, all pairs with a unique product or sum will be discarded and vice versa."
   ]
  },
  {
   "cell_type": "code",
   "execution_count": 1,
   "metadata": {
    "collapsed": true
   },
   "outputs": [],
   "source": [
    "class ImpossiblePuzzle(list):\n",
    "    @staticmethod\n",
    "    def from_set(s, allow_equal=True):\n",
    "        \"\"\"\n",
    "        Initialize an ImpossiblePuzzle object containing all unordered pairs\n",
    "        (a, b) where a and b are drawn from the set s.\n",
    "        \"\"\"\n",
    "        s = set(s)\n",
    "        if allow_equal:\n",
    "            return ImpossiblePuzzle(\n",
    "                (i, j) for i in s for j in s if i <= j)\n",
    "        else:\n",
    "            return ImpossiblePuzzle(\n",
    "                (i, j) for i in s for j in s if i < j)\n",
    "\n",
    "    @staticmethod\n",
    "    def from_range(*args, **kwargs):\n",
    "        \"\"\"\n",
    "        Initialize an ImpossiblePuzzle object containing all unordered pairs\n",
    "        (a, b) where a and b are drawn from range(*args).\n",
    "        \"\"\"\n",
    "        allow_equal = kwargs.get('allow_equal', True)\n",
    "        return ImpossiblePuzzle.from_set(range(*args), allow_equal)\n",
    "\n",
    "    def does_pete_know(self, answer):\n",
    "        \"\"\"\n",
    "        Return a new ImpossiblePuzzle object based on this one but with entries removed\n",
    "        based on Pete's answer to the question 'Do you know what the numbers are?'\n",
    "        \"\"\"\n",
    "        p = dict()\n",
    "        for i, j in self:\n",
    "            if i*j in p:\n",
    "                p[i*j].append((i, j))\n",
    "            else:\n",
    "                p[i*j] = [(i, j)]\n",
    "        ret = []\n",
    "        for pairs in p.values():\n",
    "            if (len(pairs) > 1) != (answer == 'yes'):\n",
    "                ret += pairs\n",
    "        return ImpossiblePuzzle(ret)\n",
    "\n",
    "    def does_susan_know(self, answer):\n",
    "        \"\"\"\n",
    "        Return a new ImpossiblePuzzle object based on this one but with entries removed\n",
    "        based on Susan's answer to the question 'Do you know what the numbers are?'\n",
    "        \"\"\"\n",
    "        s = dict()\n",
    "        for i, j in self:\n",
    "            if i+j in s:\n",
    "                s[i+j].append((i, j))\n",
    "            else:\n",
    "                s[i+j] = [(i, j)]\n",
    "        ret = []\n",
    "        for pairs in s.values():\n",
    "            if (len(pairs) > 1) != (answer == 'yes'):\n",
    "                ret += pairs\n",
    "        return ImpossiblePuzzle(ret)"
   ]
  },
  {
   "cell_type": "markdown",
   "metadata": {},
   "source": [
    "We instantiate a new puzzle as follows"
   ]
  },
  {
   "cell_type": "code",
   "execution_count": 2,
   "metadata": {
    "collapsed": true
   },
   "outputs": [],
   "source": [
    "puzzle = ImpossiblePuzzle.from_range(1, 10)"
   ]
  },
  {
   "cell_type": "markdown",
   "metadata": {},
   "source": [
    "Now we can use the chaining of method calls to build a sequence of answers from the two participants. Consider my example from above where Susan figures it out on her second go:"
   ]
  },
  {
   "cell_type": "code",
   "execution_count": 3,
   "metadata": {
    "collapsed": false
   },
   "outputs": [
    {
     "data": {
      "text/plain": [
       "[(2, 3)]"
      ]
     },
     "execution_count": 3,
     "metadata": {},
     "output_type": "execute_result"
    }
   ],
   "source": [
    "(puzzle\n",
    "  .does_pete_know('no')\n",
    "  .does_susan_know('no')\n",
    "  .does_pete_know('no')\n",
    "  .does_susan_know('yes')\n",
    ")"
   ]
  },
  {
   "cell_type": "markdown",
   "metadata": {},
   "source": [
    "This means that the only possible pair of numbers is (2, 3)."
   ]
  },
  {
   "cell_type": "markdown",
   "metadata": {},
   "source": [
    "Another interesting thing is that just because one of the participants has figured it out, the other one may still be uncertain. Consider the case where Susan figures it out the first time she is asked. In this case, Pete has the number 36 and Susan has either 12 or 13."
   ]
  },
  {
   "cell_type": "code",
   "execution_count": 4,
   "metadata": {
    "collapsed": false
   },
   "outputs": [
    {
     "data": {
      "text/plain": [
       "[(6, 6), (4, 9)]"
      ]
     },
     "execution_count": 4,
     "metadata": {},
     "output_type": "execute_result"
    }
   ],
   "source": [
    "(puzzle\n",
    "  .does_pete_know('no')\n",
    "  .does_susan_know('yes')\n",
    "  .does_pete_know('no')\n",
    ")"
   ]
  },
  {
   "cell_type": "markdown",
   "metadata": {},
   "source": [
    "Notice also that if Pete does figure it out, an observer has enough information to deduce the numbers."
   ]
  },
  {
   "cell_type": "code",
   "execution_count": 5,
   "metadata": {
    "collapsed": false
   },
   "outputs": [
    {
     "data": {
      "text/plain": [
       "[(2, 2)]"
      ]
     },
     "execution_count": 5,
     "metadata": {},
     "output_type": "execute_result"
    }
   ],
   "source": [
    "(puzzle\n",
    "  .does_pete_know('no')\n",
    "  .does_susan_know('yes')\n",
    "  .does_pete_know('yes')\n",
    ")"
   ]
  },
  {
   "cell_type": "markdown",
   "metadata": {},
   "source": [
    "## Can the numbers be equal\n",
    "\n",
    "As promised, let's investigate what happens if the numbers are not allowed to be equal. The static methods take the optional parameter `allow_equal` which defaults to `True`. We can set this to `False` and see what happens."
   ]
  },
  {
   "cell_type": "code",
   "execution_count": 6,
   "metadata": {
    "collapsed": true
   },
   "outputs": [],
   "source": [
    "puzzle2 = ImpossiblePuzzle.from_range(1, 10, allow_equal=False)"
   ]
  },
  {
   "cell_type": "code",
   "execution_count": 7,
   "metadata": {
    "collapsed": false
   },
   "outputs": [
    {
     "data": {
      "text/plain": [
       "[(3, 6), (2, 9)]"
      ]
     },
     "execution_count": 7,
     "metadata": {},
     "output_type": "execute_result"
    }
   ],
   "source": [
    "(puzzle2\n",
    "  .does_pete_know('no')\n",
    "  .does_susan_know('no')\n",
    "  .does_pete_know('no')\n",
    " )"
   ]
  },
  {
   "cell_type": "markdown",
   "metadata": {},
   "source": [
    "It should be clear that whether Susan has 9 or 11 she will know the answer at this point. Pete on the other hand will never know the answer."
   ]
  },
  {
   "cell_type": "markdown",
   "metadata": {},
   "source": [
    "## What if we allow more numbers?"
   ]
  },
  {
   "cell_type": "markdown",
   "metadata": {},
   "source": [
    "Instead of the original puzzle where numbers were from the range 1 to 9, what if we allowed numbers from 1 to 99? This would be very timeconsuming to solve manually, but the computer can do it fast and accurate. In this case, I use the same sequence of answers as in the original example."
   ]
  },
  {
   "cell_type": "code",
   "execution_count": 8,
   "metadata": {
    "collapsed": false
   },
   "outputs": [
    {
     "data": {
      "text/plain": [
       "[(77, 90)]"
      ]
     },
     "execution_count": 8,
     "metadata": {},
     "output_type": "execute_result"
    }
   ],
   "source": [
    "puzzle99 = ImpossiblePuzzle.from_range(1, 100)\n",
    "\n",
    "(puzzle99\n",
    "  .does_pete_know('no')\n",
    "  .does_susan_know('no')\n",
    "  .does_pete_know('no')\n",
    "  .does_susan_know('no')\n",
    "  .does_pete_know('no')\n",
    "  .does_susan_know('no')\n",
    "  .does_pete_know('no')\n",
    "  .does_susan_know('no')\n",
    "  .does_pete_know('yes')\n",
    ")"
   ]
  },
  {
   "cell_type": "markdown",
   "metadata": {},
   "source": [
    "The original puzzle had a follow up question. What if Pete answered \"no\" the fifth time, would Susan be able to solve it? In our extended 99 number version the answer is yes, but only if the numbers are (72, 95)."
   ]
  },
  {
   "cell_type": "code",
   "execution_count": 9,
   "metadata": {
    "collapsed": false
   },
   "outputs": [
    {
     "data": {
      "text/plain": [
       "[(72, 95)]"
      ]
     },
     "execution_count": 9,
     "metadata": {},
     "output_type": "execute_result"
    }
   ],
   "source": [
    "(puzzle99\n",
    "  .does_pete_know('no')\n",
    "  .does_susan_know('no')\n",
    "  .does_pete_know('no')\n",
    "  .does_susan_know('no')\n",
    "  .does_pete_know('no')\n",
    "  .does_susan_know('no')\n",
    "  .does_pete_know('no')\n",
    "  .does_susan_know('no')\n",
    "  .does_pete_know('no')\n",
    " .does_susan_know('yes')\n",
    ")"
   ]
  },
  {
   "cell_type": "markdown",
   "metadata": {},
   "source": [
    "## Solutions to the original questions\n",
    "\n",
    "Finally, I put the code for solving the original questions, but to avoid spoiling your fun I leave those cells unevaluated.\n",
    "\n",
    "First up Pete figures it out on the fifth go, what are the two numbers?"
   ]
  },
  {
   "cell_type": "code",
   "execution_count": null,
   "metadata": {
    "collapsed": false
   },
   "outputs": [],
   "source": [
    "(puzzle\n",
    "  .does_pete_know('no')\n",
    "  .does_susan_know('no')\n",
    "  .does_pete_know('no')\n",
    "  .does_susan_know('no')\n",
    "  .does_pete_know('no')\n",
    "  .does_susan_know('no')\n",
    "  .does_pete_know('no')\n",
    "  .does_susan_know('no')\n",
    "  .does_pete_know('yes')\n",
    ")"
   ]
  },
  {
   "cell_type": "markdown",
   "metadata": {},
   "source": [
    "Second, what if Pete answered \"no\" the fifth time, would Susan be able to solve it?"
   ]
  },
  {
   "cell_type": "code",
   "execution_count": null,
   "metadata": {
    "collapsed": false
   },
   "outputs": [],
   "source": [
    "(puzzle\n",
    "  .does_pete_know('no')\n",
    "  .does_susan_know('no')\n",
    "  .does_pete_know('no')\n",
    "  .does_susan_know('no')\n",
    "  .does_pete_know('no')\n",
    "  .does_susan_know('no')\n",
    "  .does_pete_know('no')\n",
    "  .does_susan_know('no')\n",
    "  .does_pete_know('no')\n",
    "  .does_susan_know('yes')\n",
    ")"
   ]
  },
  {
   "cell_type": "markdown",
   "metadata": {},
   "source": [
    "If this statement evaluates to an empty list, the answer is no, if it evaluates to a non-empty list, the answer is either \"yes\", or \"yes, if the numbers are one of these pairs\".\n",
    "\n",
    "To figure out which of the two latter is correct, the following statement can be evaluated"
   ]
  },
  {
   "cell_type": "code",
   "execution_count": null,
   "metadata": {
    "collapsed": false
   },
   "outputs": [],
   "source": [
    "(puzzle\n",
    "  .does_pete_know('no')\n",
    "  .does_susan_know('no')\n",
    "  .does_pete_know('no')\n",
    "  .does_susan_know('no')\n",
    "  .does_pete_know('no')\n",
    "  .does_susan_know('no')\n",
    "  .does_pete_know('no')\n",
    "  .does_susan_know('no')\n",
    "  .does_pete_know('no')\n",
    "  .does_susan_know('no')\n",
    ")"
   ]
  },
  {
   "cell_type": "markdown",
   "metadata": {},
   "source": [
    "If this statement evaluates to an empty list and the previous statement evaluated to a non-empty list, the answer is \"yes\". If both lists are non-empty, the answer is \"yes, but...\""
   ]
  }
 ],
 "metadata": {
  "kernelspec": {
   "display_name": "Python 2",
   "language": "python",
   "name": "python2"
  },
  "language_info": {
   "codemirror_mode": {
    "name": "ipython",
    "version": 2
   },
   "file_extension": ".py",
   "mimetype": "text/x-python",
   "name": "python",
   "nbconvert_exporter": "python",
   "pygments_lexer": "ipython2",
   "version": "2.7.11"
  }
 },
 "nbformat": 4,
 "nbformat_minor": 0
}
